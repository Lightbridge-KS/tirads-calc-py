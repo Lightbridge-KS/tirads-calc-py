{
 "cells": [
  {
   "cell_type": "markdown",
   "metadata": {},
   "source": [
    "# Dev: TIRADS Report"
   ]
  },
  {
   "cell_type": "code",
   "execution_count": 1,
   "metadata": {},
   "outputs": [],
   "source": [
    "import os\n",
    "import sys\n",
    "\n",
    "os.chdir(os.path.join(sys.path[0], '..')) # Change WD to Proj Root\n",
    "# print(os.getcwd(), sys.path)\n",
    "import tirads"
   ]
  },
  {
   "cell_type": "markdown",
   "metadata": {},
   "source": [
    "## TIRADS Report"
   ]
  },
  {
   "cell_type": "code",
   "execution_count": 2,
   "metadata": {},
   "outputs": [
    {
     "name": "stdout",
     "output_type": "stream",
     "text": [
      "-- TIRADS Report --\n",
      "Level: TR5 (Highly Suspicious)\n",
      "Total Points: 10\n",
      "Points by Category:\n",
      "- composition: 2\n",
      "- echogenicity: 2\n",
      "- shape: 3\n",
      "- margin: 0\n",
      "- echogenic_foci: 3\n",
      "Description:\n",
      "- composition: Solid or almost completely solid (2)\n",
      "- echogenicity: Hypoechoic (2)\n",
      "- shape: Taller-than-wide (3)\n",
      "- margin: Smooth (0)\n",
      "- echogenic_foci: Punctate echogenic foci (3), None or Large comet-tail artifacts (0)\n",
      "Suggested Actions:\n",
      "- FNA: True\n",
      "- Follow-up: True\n"
     ]
    }
   ],
   "source": [
    "result_1 = tirads.TIRADSReport(\"solid\", \"hypo\", \"taller\", \"smooth\", [\"punctate\", \"none-comet\"], size_cm=1.5)\n",
    "print(result_1)"
   ]
  },
  {
   "cell_type": "code",
   "execution_count": 4,
   "metadata": {},
   "outputs": [
    {
     "data": {
      "text/plain": [
       "{'composition': 'Solid or almost completely solid (2)',\n",
       " 'echogenicity': 'Hypoechoic (2)',\n",
       " 'shape': 'Taller-than-wide (3)',\n",
       " 'margin': 'Smooth (0)',\n",
       " 'echogenic_foci': 'Punctate echogenic foci (3), None or Large comet-tail artifacts (0)'}"
      ]
     },
     "execution_count": 4,
     "metadata": {},
     "output_type": "execute_result"
    }
   ],
   "source": [
    "result_1.desc"
   ]
  },
  {
   "cell_type": "markdown",
   "metadata": {},
   "source": [
    "## TIRADS Points"
   ]
  },
  {
   "cell_type": "code",
   "execution_count": 5,
   "metadata": {},
   "outputs": [
    {
     "data": {
      "text/plain": [
       "{'points': {'composition': 2,\n",
       "  'echogenicity': 2,\n",
       "  'shape': 3,\n",
       "  'margin': 2,\n",
       "  'echogenic_foci': 3},\n",
       " 'points_tot': 12,\n",
       " 'categories': {'composition': 'solid',\n",
       "  'echogenicity': 'hypo',\n",
       "  'shape': 'taller',\n",
       "  'margin': 'lob-irreg',\n",
       "  'echogenic_foci': ['none-comet', 'punctate']}}"
      ]
     },
     "execution_count": 5,
     "metadata": {},
     "output_type": "execute_result"
    }
   ],
   "source": [
    "tirads.get_tirads_points(\"solid\", \"hypo\", \"taller\", \"lob-irreg\", [\"none-comet\", \"punctate\"])"
   ]
  },
  {
   "cell_type": "code",
   "execution_count": 17,
   "metadata": {},
   "outputs": [
    {
     "data": {
      "text/plain": [
       "{'composition': 'Solid or almost completely solid (2)',\n",
       " 'echogenicity': 'Hypoechoic (2)',\n",
       " 'shape': 'Taller-than-wide (3)',\n",
       " 'margin': 'Smooth (0)',\n",
       " 'echogenic_foci': 'None or Large comet-tail artifacts (0), Punctate echogenic foci (3)'}"
      ]
     },
     "execution_count": 17,
     "metadata": {},
     "output_type": "execute_result"
    }
   ],
   "source": [
    "dd2 = {'composition': 'solid',\n",
    "  'echogenicity': 'hypo',\n",
    "  'shape': 'taller',\n",
    "  'margin': 'smooth',\n",
    "  'echogenic_foci': ['none-comet', 'punctate']}\n",
    "\n",
    "desc = {}\n",
    "\n",
    "for category, selection in dd2.items():\n",
    "    if category == \"echogenic_foci\":\n",
    "      ls = [tirads.map.tirads_map_desc[category][x] for x in selection]\n",
    "      desc[category] = \", \".join(ls) # TODO\n",
    "    else:\n",
    "      desc[category] = tirads.map.tirads_map_desc[category][selection]\n",
    "      \n",
    "desc"
   ]
  },
  {
   "cell_type": "markdown",
   "metadata": {},
   "source": [
    "## TIRADS Level"
   ]
  },
  {
   "cell_type": "code",
   "execution_count": 8,
   "metadata": {},
   "outputs": [
    {
     "data": {
      "text/plain": [
       "{'tr': 'TR5', 'desc': 'Highly Suspicious'}"
      ]
     },
     "execution_count": 8,
     "metadata": {},
     "output_type": "execute_result"
    }
   ],
   "source": [
    "tirads.get_tirads_levels(\"solid\", \"hypo\", \"taller\", \"smooth\", [\"punctate\"])"
   ]
  },
  {
   "cell_type": "code",
   "execution_count": 9,
   "metadata": {},
   "outputs": [
    {
     "data": {
      "text/plain": [
       "12"
      ]
     },
     "execution_count": 9,
     "metadata": {},
     "output_type": "execute_result"
    }
   ],
   "source": [
    "d1 = {'composition': 2,\n",
    "  'echogenicity': 2,\n",
    "  'shape': 3,\n",
    "  'margin': 2,\n",
    "  'echogenic_foci': 3}\n",
    "\n",
    "sum(d1.values())"
   ]
  },
  {
   "cell_type": "markdown",
   "metadata": {},
   "source": [
    "## Report as Table"
   ]
  },
  {
   "cell_type": "code",
   "execution_count": 8,
   "metadata": {},
   "outputs": [],
   "source": [
    "import pandas as pd"
   ]
  },
  {
   "cell_type": "code",
   "execution_count": 26,
   "metadata": {},
   "outputs": [
    {
     "data": {
      "text/plain": [
       "12"
      ]
     },
     "execution_count": 26,
     "metadata": {},
     "output_type": "execute_result"
    }
   ],
   "source": [
    "sum(result_1.points.values())"
   ]
  },
  {
   "cell_type": "code",
   "execution_count": 28,
   "metadata": {},
   "outputs": [
    {
     "data": {
      "text/html": [
       "<div>\n",
       "<style scoped>\n",
       "    .dataframe tbody tr th:only-of-type {\n",
       "        vertical-align: middle;\n",
       "    }\n",
       "\n",
       "    .dataframe tbody tr th {\n",
       "        vertical-align: top;\n",
       "    }\n",
       "\n",
       "    .dataframe thead th {\n",
       "        text-align: right;\n",
       "    }\n",
       "</style>\n",
       "<table border=\"1\" class=\"dataframe\">\n",
       "  <thead>\n",
       "    <tr style=\"text-align: right;\">\n",
       "      <th></th>\n",
       "      <th>x</th>\n",
       "      <th>y</th>\n",
       "    </tr>\n",
       "  </thead>\n",
       "  <tbody>\n",
       "    <tr>\n",
       "      <th>0</th>\n",
       "      <td>a</td>\n",
       "      <td>1</td>\n",
       "    </tr>\n",
       "    <tr>\n",
       "      <th>1</th>\n",
       "      <td>b</td>\n",
       "      <td>2</td>\n",
       "    </tr>\n",
       "  </tbody>\n",
       "</table>\n",
       "</div>"
      ],
      "text/plain": [
       "   x  y\n",
       "0  a  1\n",
       "1  b  2"
      ]
     },
     "execution_count": 28,
     "metadata": {},
     "output_type": "execute_result"
    }
   ],
   "source": [
    "pd.DataFrame({\"x\": [\"a\", \"b\"], \"y\": [1, 2]})"
   ]
  },
  {
   "cell_type": "code",
   "execution_count": 61,
   "metadata": {},
   "outputs": [
    {
     "data": {
      "text/html": [
       "<div>\n",
       "<style scoped>\n",
       "    .dataframe tbody tr th:only-of-type {\n",
       "        vertical-align: middle;\n",
       "    }\n",
       "\n",
       "    .dataframe tbody tr th {\n",
       "        vertical-align: top;\n",
       "    }\n",
       "\n",
       "    .dataframe thead th {\n",
       "        text-align: right;\n",
       "    }\n",
       "</style>\n",
       "<table border=\"1\" class=\"dataframe\">\n",
       "  <thead>\n",
       "    <tr style=\"text-align: right;\">\n",
       "      <th></th>\n",
       "      <th>Categories</th>\n",
       "      <th>Points</th>\n",
       "    </tr>\n",
       "  </thead>\n",
       "  <tbody>\n",
       "    <tr>\n",
       "      <th>0</th>\n",
       "      <td>composition</td>\n",
       "      <td>2</td>\n",
       "    </tr>\n",
       "    <tr>\n",
       "      <th>1</th>\n",
       "      <td>echogenicity</td>\n",
       "      <td>2</td>\n",
       "    </tr>\n",
       "    <tr>\n",
       "      <th>2</th>\n",
       "      <td>shape</td>\n",
       "      <td>3</td>\n",
       "    </tr>\n",
       "    <tr>\n",
       "      <th>3</th>\n",
       "      <td>margin</td>\n",
       "      <td>2</td>\n",
       "    </tr>\n",
       "    <tr>\n",
       "      <th>4</th>\n",
       "      <td>echogenic_foci</td>\n",
       "      <td>3</td>\n",
       "    </tr>\n",
       "    <tr>\n",
       "      <th>5</th>\n",
       "      <td>total</td>\n",
       "      <td>12</td>\n",
       "    </tr>\n",
       "  </tbody>\n",
       "</table>\n",
       "</div>"
      ],
      "text/plain": [
       "       Categories  Points\n",
       "0     composition       2\n",
       "1    echogenicity       2\n",
       "2           shape       3\n",
       "3          margin       2\n",
       "4  echogenic_foci       3\n",
       "5           total      12"
      ]
     },
     "execution_count": 61,
     "metadata": {},
     "output_type": "execute_result"
    }
   ],
   "source": [
    "result_1_df = pd.DataFrame({\"Categories\": result_1.points.keys(),\n",
    "              \"Points\": result_1.points.values()})\n",
    "\n",
    "result_1_df_cp = result_1_df.copy()\n",
    "result_1_df_cp.loc[len(result_1_df_cp)] = [\"total\", result_1_df_cp['Points'].sum()]\n",
    "result_1_df_cp"
   ]
  },
  {
   "cell_type": "markdown",
   "metadata": {},
   "source": [
    "## Tester"
   ]
  },
  {
   "cell_type": "code",
   "execution_count": 64,
   "metadata": {},
   "outputs": [
    {
     "data": {
      "text/plain": [
       "dict_keys(['cystic', 'spongiform', 'mixed', 'solid'])"
      ]
     },
     "execution_count": 64,
     "metadata": {},
     "output_type": "execute_result"
    }
   ],
   "source": [
    "tirads.map.tirads_map_desc[\"composition\"].keys()"
   ]
  },
  {
   "cell_type": "code",
   "execution_count": 5,
   "metadata": {},
   "outputs": [
    {
     "data": {
      "text/plain": [
       "'?'"
      ]
     },
     "execution_count": 5,
     "metadata": {},
     "output_type": "execute_result"
    }
   ],
   "source": [
    "pt_tot = 1\n",
    "size_cm = None\n",
    "\n",
    "should_fna = ((pt_tot == 3 and size_cm >= 2.5) or\n",
    "                      (4 <= pt_tot <= 6 and size_cm >= 1.5) or\n",
    "                      (pt_tot >= 7 and size_cm >= 1)) if size_cm is not None else \"?\"\n",
    "\n",
    "should_fna"
   ]
  }
 ],
 "metadata": {
  "kernelspec": {
   "display_name": "Python 3",
   "language": "python",
   "name": "python3"
  },
  "language_info": {
   "codemirror_mode": {
    "name": "ipython",
    "version": 3
   },
   "file_extension": ".py",
   "mimetype": "text/x-python",
   "name": "python",
   "nbconvert_exporter": "python",
   "pygments_lexer": "ipython3",
   "version": "3.10.10"
  }
 },
 "nbformat": 4,
 "nbformat_minor": 2
}
