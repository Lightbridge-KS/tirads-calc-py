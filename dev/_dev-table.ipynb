{
 "cells": [
  {
   "cell_type": "markdown",
   "metadata": {},
   "source": [
    "# Dev: Report Tables"
   ]
  },
  {
   "cell_type": "code",
   "execution_count": 1,
   "metadata": {},
   "outputs": [],
   "source": [
    "import os\n",
    "import sys\n",
    "\n",
    "os.chdir(os.path.join(sys.path[0], '..')) # Change WD to Proj Root\n",
    "# print(os.getcwd(), sys.path)\n",
    "import tirads\n",
    "from tirads import tirads_map_desc\n",
    "import pandas as pd"
   ]
  },
  {
   "cell_type": "code",
   "execution_count": 2,
   "metadata": {},
   "outputs": [
    {
     "name": "stdout",
     "output_type": "stream",
     "text": [
      "-- TIRADS Report --\n",
      "\n",
      "Level: TR5 (Highly Suspicious)\n",
      "Total Points: 9\n",
      "\n",
      "Points by Category:\n",
      "- composition: 2\n",
      "- echogenicity: 1\n",
      "- shape: 3\n",
      "- margin: 0\n",
      "- echogenic_foci: 3\n",
      "\n",
      "Description:\n",
      "- composition: Solid or almost completely solid (2)\n",
      "- echogenicity: Hyperechoic or Isoechoic (1)\n",
      "- shape: Taller-than-wide (3)\n",
      "- margin: Smooth (0)\n",
      "- echogenic_foci: Punctate echogenic foci (3), None or Large comet-tail artifacts (0)\n",
      "\n",
      "Suggested Actions:\n",
      "- FNA: ?\n",
      "- Follow-up: ?\n"
     ]
    }
   ],
   "source": [
    "res1 = tirads.TIRADSReport(\"solid\", \"hyper\", \"taller\", \"smooth\", (\"punctate\", \"none-comet\"), size_cm=None)\n",
    "print(res1)"
   ]
  },
  {
   "cell_type": "code",
   "execution_count": 3,
   "metadata": {},
   "outputs": [
    {
     "data": {
      "text/plain": [
       "'-- TIRADS Report --\\n\\nLevel: TR5 (Highly Suspicious)\\nTotal Points: 9\\n\\nPoints by Category:\\n- composition: 2\\n- echogenicity: 1\\n- shape: 3\\n- margin: 0\\n- echogenic_foci: 3\\n\\nDescription:\\n- composition: Solid or almost completely solid (2)\\n- echogenicity: Hyperechoic or Isoechoic (1)\\n- shape: Taller-than-wide (3)\\n- margin: Smooth (0)\\n- echogenic_foci: Punctate echogenic foci (3), None or Large comet-tail artifacts (0)\\n\\nSuggested Actions:\\n- FNA: ?\\n- Follow-up: ?'"
      ]
     },
     "execution_count": 3,
     "metadata": {},
     "output_type": "execute_result"
    }
   ],
   "source": [
    "str(res1)"
   ]
  },
  {
   "cell_type": "markdown",
   "metadata": {},
   "source": [
    "## Markdown String"
   ]
  },
  {
   "cell_type": "code",
   "execution_count": 4,
   "metadata": {},
   "outputs": [
    {
     "name": "stdout",
     "output_type": "stream",
     "text": [
      "### Suggested Actions:\n",
      "- FNA: if ≥ 1 cm\n",
      "- Follow-up: if ≥ 0.5 cm\n"
     ]
    }
   ],
   "source": [
    "print(res1.to_md_str_actions())"
   ]
  },
  {
   "cell_type": "markdown",
   "metadata": {},
   "source": [
    "## Make Table"
   ]
  },
  {
   "cell_type": "code",
   "execution_count": 10,
   "metadata": {},
   "outputs": [
    {
     "data": {
      "text/html": [
       "<div>\n",
       "<style scoped>\n",
       "    .dataframe tbody tr th:only-of-type {\n",
       "        vertical-align: middle;\n",
       "    }\n",
       "\n",
       "    .dataframe tbody tr th {\n",
       "        vertical-align: top;\n",
       "    }\n",
       "\n",
       "    .dataframe thead th {\n",
       "        text-align: right;\n",
       "    }\n",
       "</style>\n",
       "<table border=\"1\" class=\"dataframe\">\n",
       "  <thead>\n",
       "    <tr style=\"text-align: right;\">\n",
       "      <th></th>\n",
       "      <th>Categories</th>\n",
       "      <th>Points</th>\n",
       "    </tr>\n",
       "  </thead>\n",
       "  <tbody>\n",
       "    <tr>\n",
       "      <th>0</th>\n",
       "      <td>Composition</td>\n",
       "      <td>Solid or almost completely solid (2)</td>\n",
       "    </tr>\n",
       "    <tr>\n",
       "      <th>1</th>\n",
       "      <td>Echogenicity</td>\n",
       "      <td>Hyperechoic or Isoechoic (1)</td>\n",
       "    </tr>\n",
       "    <tr>\n",
       "      <th>2</th>\n",
       "      <td>Shape</td>\n",
       "      <td>Taller-than-wide (3)</td>\n",
       "    </tr>\n",
       "    <tr>\n",
       "      <th>3</th>\n",
       "      <td>Margin</td>\n",
       "      <td>Smooth (0)</td>\n",
       "    </tr>\n",
       "    <tr>\n",
       "      <th>4</th>\n",
       "      <td>Echogenic foci</td>\n",
       "      <td>Punctate echogenic foci (3), None or Large com...</td>\n",
       "    </tr>\n",
       "    <tr>\n",
       "      <th>5</th>\n",
       "      <td>Total</td>\n",
       "      <td>9</td>\n",
       "    </tr>\n",
       "  </tbody>\n",
       "</table>\n",
       "</div>"
      ],
      "text/plain": [
       "       Categories                                             Points\n",
       "0     Composition               Solid or almost completely solid (2)\n",
       "1    Echogenicity                       Hyperechoic or Isoechoic (1)\n",
       "2           Shape                               Taller-than-wide (3)\n",
       "3          Margin                                         Smooth (0)\n",
       "4  Echogenic foci  Punctate echogenic foci (3), None or Large com...\n",
       "5           Total                                                  9"
      ]
     },
     "execution_count": 10,
     "metadata": {},
     "output_type": "execute_result"
    }
   ],
   "source": [
    "res1.get_points_df()"
   ]
  },
  {
   "cell_type": "code",
   "execution_count": 68,
   "metadata": {},
   "outputs": [
    {
     "data": {
      "text/html": [
       "<div>\n",
       "<style scoped>\n",
       "    .dataframe tbody tr th:only-of-type {\n",
       "        vertical-align: middle;\n",
       "    }\n",
       "\n",
       "    .dataframe tbody tr th {\n",
       "        vertical-align: top;\n",
       "    }\n",
       "\n",
       "    .dataframe thead th {\n",
       "        text-align: right;\n",
       "    }\n",
       "</style>\n",
       "<table border=\"1\" class=\"dataframe\">\n",
       "  <thead>\n",
       "    <tr style=\"text-align: right;\">\n",
       "      <th></th>\n",
       "      <th>Categories</th>\n",
       "      <th>Points</th>\n",
       "    </tr>\n",
       "  </thead>\n",
       "  <tbody>\n",
       "    <tr>\n",
       "      <th>0</th>\n",
       "      <td>Composition</td>\n",
       "      <td>Solid or almost completely solid (2)</td>\n",
       "    </tr>\n",
       "    <tr>\n",
       "      <th>1</th>\n",
       "      <td>Echogenicity</td>\n",
       "      <td>Hypoechoic (2)</td>\n",
       "    </tr>\n",
       "    <tr>\n",
       "      <th>2</th>\n",
       "      <td>Shape</td>\n",
       "      <td>Taller-than-wide (3)</td>\n",
       "    </tr>\n",
       "    <tr>\n",
       "      <th>3</th>\n",
       "      <td>Margin</td>\n",
       "      <td>Smooth (0)</td>\n",
       "    </tr>\n",
       "    <tr>\n",
       "      <th>4</th>\n",
       "      <td>Echogenic foci</td>\n",
       "      <td>Punctate echogenic foci (3), None or Large com...</td>\n",
       "    </tr>\n",
       "  </tbody>\n",
       "</table>\n",
       "</div>"
      ],
      "text/plain": [
       "       Categories                                             Points\n",
       "0     Composition               Solid or almost completely solid (2)\n",
       "1    Echogenicity                                     Hypoechoic (2)\n",
       "2           Shape                               Taller-than-wide (3)\n",
       "3          Margin                                         Smooth (0)\n",
       "4  Echogenic foci  Punctate echogenic foci (3), None or Large com..."
      ]
     },
     "execution_count": 68,
     "metadata": {},
     "output_type": "execute_result"
    }
   ],
   "source": [
    "res1_df = pd.DataFrame({\n",
    "    \"Categories\": [k.capitalize().replace(\"_\", \" \") for k in tirads_map_desc.keys()],\n",
    "    \"Points\": res1.desc.values()\n",
    "    })\n",
    "res1_df"
   ]
  },
  {
   "cell_type": "code",
   "execution_count": 70,
   "metadata": {},
   "outputs": [
    {
     "data": {
      "text/html": [
       "<div>\n",
       "<style scoped>\n",
       "    .dataframe tbody tr th:only-of-type {\n",
       "        vertical-align: middle;\n",
       "    }\n",
       "\n",
       "    .dataframe tbody tr th {\n",
       "        vertical-align: top;\n",
       "    }\n",
       "\n",
       "    .dataframe thead th {\n",
       "        text-align: right;\n",
       "    }\n",
       "</style>\n",
       "<table border=\"1\" class=\"dataframe\">\n",
       "  <thead>\n",
       "    <tr style=\"text-align: right;\">\n",
       "      <th></th>\n",
       "      <th>Categories</th>\n",
       "      <th>Points</th>\n",
       "    </tr>\n",
       "  </thead>\n",
       "  <tbody>\n",
       "    <tr>\n",
       "      <th>0</th>\n",
       "      <td>Composition</td>\n",
       "      <td>Solid or almost completely solid (2)</td>\n",
       "    </tr>\n",
       "    <tr>\n",
       "      <th>1</th>\n",
       "      <td>Echogenicity</td>\n",
       "      <td>Hypoechoic (2)</td>\n",
       "    </tr>\n",
       "    <tr>\n",
       "      <th>2</th>\n",
       "      <td>Shape</td>\n",
       "      <td>Taller-than-wide (3)</td>\n",
       "    </tr>\n",
       "    <tr>\n",
       "      <th>3</th>\n",
       "      <td>Margin</td>\n",
       "      <td>Smooth (0)</td>\n",
       "    </tr>\n",
       "    <tr>\n",
       "      <th>4</th>\n",
       "      <td>Echogenic foci</td>\n",
       "      <td>Punctate echogenic foci (3), None or Large com...</td>\n",
       "    </tr>\n",
       "    <tr>\n",
       "      <th>5</th>\n",
       "      <td>Total</td>\n",
       "      <td>10</td>\n",
       "    </tr>\n",
       "  </tbody>\n",
       "</table>\n",
       "</div>"
      ],
      "text/plain": [
       "       Categories                                             Points\n",
       "0     Composition               Solid or almost completely solid (2)\n",
       "1    Echogenicity                                     Hypoechoic (2)\n",
       "2           Shape                               Taller-than-wide (3)\n",
       "3          Margin                                         Smooth (0)\n",
       "4  Echogenic foci  Punctate echogenic foci (3), None or Large com...\n",
       "5           Total                                                 10"
      ]
     },
     "execution_count": 70,
     "metadata": {},
     "output_type": "execute_result"
    }
   ],
   "source": [
    "res1_dfcp = res1_df.copy()\n",
    "res1_dfcp.loc[len(res1_df)] = [\"Total\", res1.pt[\"points_tot\"]]\n",
    "res1_dfcp\n"
   ]
  },
  {
   "cell_type": "code",
   "execution_count": 46,
   "metadata": {},
   "outputs": [
    {
     "data": {
      "text/html": [
       "<div>\n",
       "<style scoped>\n",
       "    .dataframe tbody tr th:only-of-type {\n",
       "        vertical-align: middle;\n",
       "    }\n",
       "\n",
       "    .dataframe tbody tr th {\n",
       "        vertical-align: top;\n",
       "    }\n",
       "\n",
       "    .dataframe thead th {\n",
       "        text-align: right;\n",
       "    }\n",
       "</style>\n",
       "<table border=\"1\" class=\"dataframe\">\n",
       "  <thead>\n",
       "    <tr style=\"text-align: right;\">\n",
       "      <th></th>\n",
       "      <th>x</th>\n",
       "      <th>y</th>\n",
       "    </tr>\n",
       "  </thead>\n",
       "  <tbody>\n",
       "    <tr>\n",
       "      <th>0</th>\n",
       "      <td>1</td>\n",
       "      <td>3</td>\n",
       "    </tr>\n",
       "    <tr>\n",
       "      <th>1</th>\n",
       "      <td>2</td>\n",
       "      <td>4</td>\n",
       "    </tr>\n",
       "    <tr>\n",
       "      <th>2</th>\n",
       "      <td>5</td>\n",
       "      <td>6</td>\n",
       "    </tr>\n",
       "  </tbody>\n",
       "</table>\n",
       "</div>"
      ],
      "text/plain": [
       "   x  y\n",
       "0  1  3\n",
       "1  2  4\n",
       "2  5  6"
      ]
     },
     "execution_count": 46,
     "metadata": {},
     "output_type": "execute_result"
    }
   ],
   "source": [
    "df1 = pd.DataFrame({\"x\": [1, 2], \"y\": [3, 4]})\n",
    "\n",
    "# Add new row at the last position\n",
    "df1.loc[len(df1)] = [5, 6]\n",
    "df1"
   ]
  },
  {
   "cell_type": "markdown",
   "metadata": {},
   "source": [
    "## HowTo"
   ]
  },
  {
   "cell_type": "markdown",
   "metadata": {},
   "source": [
    "### Tuple to list"
   ]
  },
  {
   "cell_type": "code",
   "execution_count": 12,
   "metadata": {},
   "outputs": [
    {
     "data": {
      "text/plain": [
       "['A', 'B', 'C']"
      ]
     },
     "execution_count": 12,
     "metadata": {},
     "output_type": "execute_result"
    }
   ],
   "source": [
    "tup1 = (\"A\", \"B\", \"C\")\n",
    "list(tup1)"
   ]
  },
  {
   "cell_type": "code",
   "execution_count": 6,
   "metadata": {},
   "outputs": [
    {
     "name": "stdout",
     "output_type": "stream",
     "text": [
      "23/03/2024\n"
     ]
    }
   ],
   "source": [
    "from datetime import datetime\n",
    "datetime.now().strftime('%d/%m/%Y')\n",
    "\n",
    "print(current_date)"
   ]
  },
  {
   "cell_type": "code",
   "execution_count": 7,
   "metadata": {},
   "outputs": [
    {
     "data": {
      "text/plain": [
       "'23/03/2024'"
      ]
     },
     "execution_count": 7,
     "metadata": {},
     "output_type": "execute_result"
    }
   ],
   "source": [
    "__import__('datetime').datetime.now().strftime('%d/%m/%Y')"
   ]
  }
 ],
 "metadata": {
  "kernelspec": {
   "display_name": "Python 3",
   "language": "python",
   "name": "python3"
  },
  "language_info": {
   "codemirror_mode": {
    "name": "ipython",
    "version": 3
   },
   "file_extension": ".py",
   "mimetype": "text/x-python",
   "name": "python",
   "nbconvert_exporter": "python",
   "pygments_lexer": "ipython3",
   "version": "3.10.10"
  }
 },
 "nbformat": 4,
 "nbformat_minor": 2
}
